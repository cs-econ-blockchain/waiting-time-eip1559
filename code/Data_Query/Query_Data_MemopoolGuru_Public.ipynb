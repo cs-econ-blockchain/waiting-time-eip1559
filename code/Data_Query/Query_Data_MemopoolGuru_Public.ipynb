{
  "nbformat": 4,
  "nbformat_minor": 0,
  "metadata": {
    "colab": {
      "provenance": [],
      "mount_file_id": "1T4GXt4BSr_gneUjOv188H54KYK7BkYzo",
      "authorship_tag": "ABX9TyP7V078bF/e9sLftiicvkSY",
      "include_colab_link": true
    },
    "kernelspec": {
      "name": "python3",
      "display_name": "Python 3"
    },
    "language_info": {
      "name": "python"
    },
    "gpuClass": "standard"
  },
  "cells": [
    {
      "cell_type": "markdown",
      "metadata": {
        "id": "view-in-github",
        "colab_type": "text"
      },
      "source": [
        "<a href=\"https://colab.research.google.com/github/sunshineluyao/waiting-time-eip1559/blob/main/code/Data_Query/Query_Data_MemopoolGuru_Public.ipynb\" target=\"_parent\"><img src=\"https://colab.research.google.com/assets/colab-badge.svg\" alt=\"Open In Colab\"/></a>"
      ]
    },
    {
      "cell_type": "markdown",
      "source": [
        "Reference:\n",
        "* https://fanzzz.notion.site/Instructions-to-access-mempool-guru-data-ab8977977d4b48e68a27cae3af545d2d\n",
        "* https://www.psycopg.org/psycopg3/docs/basic/usage.html\n",
        "* https://www.psycopg.org/psycopg3/docs/basic/transactions.html"
      ],
      "metadata": {
        "id": "-24dPmVarlNj"
      }
    },
    {
      "cell_type": "markdown",
      "source": [
        "!!!Note, please remove credentials before circulate "
      ],
      "metadata": {
        "id": "vv2kFbt0roqT"
      }
    },
    {
      "cell_type": "markdown",
      "source": [
        "# Part I: Set-up"
      ],
      "metadata": {
        "id": "dyp2INPYtD8X"
      }
    },
    {
      "cell_type": "code",
      "source": [
        "# mount google drive\n",
        "from google.colab import drive\n",
        "drive.mount('/content/drive')"
      ],
      "metadata": {
        "colab": {
          "base_uri": "https://localhost:8080/"
        },
        "id": "Gc7NFenA_O-X",
        "outputId": "2cfef5c6-0b13-49db-e16e-0f8974ff349e"
      },
      "execution_count": null,
      "outputs": [
        {
          "output_type": "stream",
          "name": "stdout",
          "text": [
            "Drive already mounted at /content/drive; to attempt to forcibly remount, call drive.mount(\"/content/drive\", force_remount=True).\n"
          ]
        }
      ]
    },
    {
      "cell_type": "code",
      "source": [
        "# print the current directory\n",
        "!pwd"
      ],
      "metadata": {
        "colab": {
          "base_uri": "https://localhost:8080/"
        },
        "id": "-rY0sSkM_Vlj",
        "outputId": "ead40397-16e9-4d92-851b-95f7c5c53fc3"
      },
      "execution_count": null,
      "outputs": [
        {
          "output_type": "stream",
          "name": "stdout",
          "text": [
            "/content\n"
          ]
        }
      ]
    },
    {
      "cell_type": "code",
      "source": [
        "#@title path\n",
        "#create a project folder and identify the path\n",
        "path = \"/content/drive/MyDrive/waitingtime\" #@param {type:\"string\"}\n",
        "\n",
        "     "
      ],
      "metadata": {
        "id": "ZPdKY8d8_aCv"
      },
      "execution_count": null,
      "outputs": []
    },
    {
      "cell_type": "code",
      "source": [
        "#go to your project folder \n",
        "%cd /content/drive/MyDrive/waitingtime"
      ],
      "metadata": {
        "colab": {
          "base_uri": "https://localhost:8080/"
        },
        "id": "PKVs7sCg_au2",
        "outputId": "3e484014-0171-418d-83cf-b32f08a550dd"
      },
      "execution_count": null,
      "outputs": [
        {
          "output_type": "stream",
          "name": "stdout",
          "text": [
            "/content/drive/MyDrive/waitingtime\n"
          ]
        }
      ]
    },
    {
      "cell_type": "code",
      "source": [
        "# print the current directory again to make sure that you are in the project folder\n",
        "!pwd     "
      ],
      "metadata": {
        "colab": {
          "base_uri": "https://localhost:8080/"
        },
        "id": "_P33DW1k_dWU",
        "outputId": "b6ac84e0-1273-4d0f-cf5c-10b477df6054"
      },
      "execution_count": null,
      "outputs": [
        {
          "output_type": "stream",
          "name": "stdout",
          "text": [
            "/content/drive/MyDrive/waitingtime\n"
          ]
        }
      ]
    },
    {
      "cell_type": "markdown",
      "source": [
        "## 1.1. Install and import packages"
      ],
      "metadata": {
        "id": "1KWU43VBtIfG"
      }
    },
    {
      "cell_type": "markdown",
      "source": [
        "references:\n",
        "\n",
        "https://www.psycopg.org/psycopg3/docs/"
      ],
      "metadata": {
        "id": "0BWkKZXKtLD8"
      }
    },
    {
      "cell_type": "code",
      "execution_count": null,
      "metadata": {
        "colab": {
          "base_uri": "https://localhost:8080/"
        },
        "id": "PUUwKD_zrTkz",
        "outputId": "b6d49a5e-6a36-4bda-9b73-4dbd40a61b8c"
      },
      "outputs": [
        {
          "output_type": "stream",
          "name": "stdout",
          "text": [
            "Looking in indexes: https://pypi.org/simple, https://us-python.pkg.dev/colab-wheels/public/simple/\n",
            "Requirement already satisfied: psycopg in /usr/local/lib/python3.8/dist-packages (3.1.4)\n",
            "Requirement already satisfied: backports.zoneinfo>=0.2.0 in /usr/local/lib/python3.8/dist-packages (from psycopg) (0.2.1)\n",
            "Requirement already satisfied: typing-extensions>=4.1 in /usr/local/lib/python3.8/dist-packages (from psycopg) (4.4.0)\n"
          ]
        }
      ],
      "source": [
        "#import Psycopg 3 – PostgreSQL database adapter for Python\n",
        "!pip install psycopg"
      ]
    },
    {
      "cell_type": "code",
      "source": [
        "# import Psycopg 3 – PostgreSQL database adapter for Python\n",
        "import psycopg"
      ],
      "metadata": {
        "id": "AGhmr7hCtPDm"
      },
      "execution_count": null,
      "outputs": []
    },
    {
      "cell_type": "markdown",
      "source": [
        "## 1.2. connect to the server using private credentials"
      ],
      "metadata": {
        "id": "AXYY95GWtYko"
      }
    },
    {
      "cell_type": "code",
      "source": [
        "#@title username\n",
        "# security alert: privacy information, please do not share or distribute without permission\n",
        "username = \"username\" #@param {type:\"string\"}"
      ],
      "metadata": {
        "id": "9GASpxD_tUec"
      },
      "execution_count": null,
      "outputs": []
    },
    {
      "cell_type": "code",
      "source": [
        "#@title password\n",
        "# security alert: privacy information, please do not share or distribute without permission\n",
        "password = \"passowrd\" #@param {type:\"string\"}\n"
      ],
      "metadata": {
        "id": "vlSqCfOutgEF"
      },
      "execution_count": null,
      "outputs": []
    },
    {
      "cell_type": "code",
      "source": [
        "#@title IP Address\n",
        "# security alert: privacy information, please do not share or distribute without permission\n",
        "IP_Address = \"IP\" #@param {type:\"string\"}\n"
      ],
      "metadata": {
        "id": "YOVJKjYwticI"
      },
      "execution_count": null,
      "outputs": []
    },
    {
      "cell_type": "code",
      "source": [
        "#Sample code: POSTGRES_DB_URL = f\"postgresql://{username}:{password}@{address}/tx_log\"\n",
        "#Action 1: replace {username}, including the parenthesis, with your username provided in the credential document\n",
        "#Action 2: replace {password}, including the parenthesis, with your password provided in the credential document\n",
        "#Action 3: replace {address}, including the parenthesis, with your address provided in the credential document\n",
        "# frequent mistakes: if you don't remove the patherentis, the code ends up with Python syntax error. Read more here: https://peps.python.org/pep-0498/\n",
        "POSTGRES_DB_URL = f\"postgresql://username:password@IP/tx_log\""
      ],
      "metadata": {
        "id": "t0JJyBFLtkhH"
      },
      "execution_count": null,
      "outputs": []
    },
    {
      "cell_type": "markdown",
      "source": [
        "# Part II: First Time Observation"
      ],
      "metadata": {
        "id": "2BYkTUXE8wlM"
      }
    },
    {
      "cell_type": "code",
      "source": [
        "# define the function to identify the first serve and time that one transantion was found in the public mempool\n",
        "def find_first_observation(cur, hash):\n",
        "\treturn cur.execute(\"select monitor_id, time_seen, hash, block_hash from FirstObservation where hash = (%s)\",\n",
        "                        (hash, )).fetchall()"
      ],
      "metadata": {
        "id": "ZVksxzkP9Dmo"
      },
      "execution_count": null,
      "outputs": []
    },
    {
      "cell_type": "markdown",
      "source": [
        "### Sample code for finding the set of servers that observes each transaction and the time first seen by each server using transaction hash"
      ],
      "metadata": {
        "id": "g53GlmUs9S0r"
      }
    },
    {
      "cell_type": "code",
      "source": [
        "#@title transaction hash of the transactions\n",
        "# Go to etherscan or Google Bigquery Public database and input the transaction hash of one block that you are interested in: \n",
        "#https://etherscan.io/\n",
        "#https://www.kaggle.com/datasets/bigquery/ethereum-blockchain\n",
        "transaction_hash = \"0x1cf33585fcb020xa4bcbfdd72f3ecc4edaf16253eb33c018934e110d959f5f9c56b8681eed6bea9\" #@param {type:\"string\"}\n"
      ],
      "metadata": {
        "id": "GbsGGNDA9J65"
      },
      "execution_count": null,
      "outputs": []
    },
    {
      "cell_type": "code",
      "source": [
        "#print results for the block that you are interested in \n",
        "with psycopg.connect(POSTGRES_DB_URL, autocommit=True) as conn:\n",
        "    with conn.cursor() as cur:\n",
        "        for ob in find_first_observation(cur, \"0xa4bcbfdd72f3ecc4edaf16253eb33c018934e110d959f5f9c56b8681eed6bea9\"):\n",
        "            print(f\"first seen by {ob[0]} at {ob[1]} for {ob[2]} finally recorded in block_hash {ob[3]}\")"
      ],
      "metadata": {
        "id": "68StLUoI9Pnm"
      },
      "execution_count": null,
      "outputs": []
    },
    {
      "cell_type": "markdown",
      "source": [
        "# Part III: Waiting Time (Delay) Data Query"
      ],
      "metadata": {
        "id": "qikZMQVsttf6"
      }
    },
    {
      "cell_type": "markdown",
      "source": [
        "##3.1 Query the table named \"processed_transactions\"\n",
        "### Data Dictionary\n",
        "|name  |type| sample|\n",
        "|---   |---|----|\n",
        "|first_observed_at| timestamp with timezone|      |\n",
        "|first observed_by| varchar(20)|               |\n",
        "|included_in      |varchar(80)|                |\n",
        "|included_at      |timestamp with timezone|    |\n",
        "|delay| double precision|                    |\n",
        "|num_observations|         integer|           |\n",
        "|included_in_block_num| integer|             |\n",
        "|hash|                |varchar(80)|           |"
      ],
      "metadata": {
        "id": "xi6DKQs8uT07"
      }
    },
    {
      "cell_type": "markdown",
      "source": [
        "### A. Query an observation"
      ],
      "metadata": {
        "id": "GpD5V6nIuf2C"
      }
    },
    {
      "cell_type": "code",
      "source": [
        "# Connect to an existing database\n",
        "with psycopg.connect(POSTGRES_DB_URL, autocommit=True) as conn:\n",
        "\n",
        "    # Open a cursor to perform database operations\n",
        "    with conn.cursor() as cur:\n",
        "\n",
        "        # Execute a command: this creates a new table\n",
        "        print(cur.execute(\"select * from processed_transactions Limit 1\").fetchone())"
      ],
      "metadata": {
        "colab": {
          "base_uri": "https://localhost:8080/"
        },
        "id": "JSK9aAJxuY1Z",
        "outputId": "f4aab30e-e1a8-4e96-cc80-7aca088dcda0"
      },
      "execution_count": null,
      "outputs": [
        {
          "output_type": "stream",
          "name": "stdout",
          "text": [
            "('0x7614ba7ea2f28a54540b8a535b4d55ae70349bfeb21bf5fc62e620cb9fa0fa83', datetime.datetime(2022, 9, 16, 4, 21, 2, 454719, tzinfo=backports.zoneinfo.ZoneInfo(key='Etc/UTC')), 'VA', '0x38e89e3bc65fc8662ac7dc4da0b5acf37a47ff1dbb7586883d8663a46811b6aa', datetime.datetime(2022, 9, 16, 4, 21, 25, 153676, tzinfo=backports.zoneinfo.ZoneInfo(key='Etc/UTC')), 22.698957, 3, 15543784)\n"
          ]
        }
      ]
    },
    {
      "cell_type": "markdown",
      "source": [
        "### B. Print all the column names"
      ],
      "metadata": {
        "id": "9t18kfHZulvY"
      }
    },
    {
      "cell_type": "code",
      "source": [
        "# Connect to an existing database\n",
        "with psycopg.connect(POSTGRES_DB_URL, autocommit=True) as conn:\n",
        "\n",
        "    # Open a cursor to perform database operations\n",
        "    with conn.cursor() as cur:\n",
        "      cur.execute(\"select * from processed_transactions LIMIT 0\")\n",
        "      column_names_processed_transactions =[desc[0] for desc in cur.description]\n",
        "      print(column_names_processed_transactions)"
      ],
      "metadata": {
        "colab": {
          "base_uri": "https://localhost:8080/"
        },
        "id": "RppYEnsfueLa",
        "outputId": "6adec0b9-53b3-41ce-8a2d-e3ef08b94227"
      },
      "execution_count": null,
      "outputs": [
        {
          "output_type": "stream",
          "name": "stdout",
          "text": [
            "['hash', 'first_observed_at', 'first_observed_by', 'included_in', 'included_at', 'delay', 'num_observations', 'included_in_block_num']\n"
          ]
        }
      ]
    },
    {
      "cell_type": "markdown",
      "source": [
        "### C. Save to the datafrme"
      ],
      "metadata": {
        "id": "7QLrYtK1u1fR"
      }
    },
    {
      "cell_type": "code",
      "source": [
        "import pandas as pd"
      ],
      "metadata": {
        "id": "J2_Tjubzu885"
      },
      "execution_count": null,
      "outputs": []
    },
    {
      "cell_type": "code",
      "source": [
        "# Connect to an existing database\n",
        "with psycopg.connect(POSTGRES_DB_URL, autocommit=True) as conn:\n",
        "\n",
        "    # Open a cursor to perform database operations\n",
        "    with conn.cursor() as cur:\n",
        "\n",
        "        # Execute a command: this creates a new table\n",
        "        sql=cur.execute(\"select * from processed_transactions limit 2\").fetchmany(size=2)\n",
        "        dat =pd.DataFrame(sql, columns=column_names_processed_transactions)"
      ],
      "metadata": {
        "id": "2HdSpwTju6z6"
      },
      "execution_count": null,
      "outputs": []
    },
    {
      "cell_type": "code",
      "source": [
        "dat"
      ],
      "metadata": {
        "colab": {
          "base_uri": "https://localhost:8080/",
          "height": 211
        },
        "id": "K9NG4cLvvBEa",
        "outputId": "428dd4d5-0d37-43f3-a6ea-3233bb53df16"
      },
      "execution_count": null,
      "outputs": [
        {
          "output_type": "execute_result",
          "data": {
            "text/plain": [
              "                                                hash  \\\n",
              "0  0x7614ba7ea2f28a54540b8a535b4d55ae70349bfeb21b...   \n",
              "1  0x778d22bafd3b7a4ab6015d103c6731578235388684de...   \n",
              "\n",
              "                 first_observed_at first_observed_by  \\\n",
              "0 2022-09-16 04:21:02.454719+00:00                VA   \n",
              "1 2022-09-16 04:21:12.028780+00:00                VA   \n",
              "\n",
              "                                         included_in  \\\n",
              "0  0x38e89e3bc65fc8662ac7dc4da0b5acf37a47ff1dbb75...   \n",
              "1  0x38e89e3bc65fc8662ac7dc4da0b5acf37a47ff1dbb75...   \n",
              "\n",
              "                       included_at      delay  num_observations  \\\n",
              "0 2022-09-16 04:21:25.153676+00:00  22.698957                 3   \n",
              "1 2022-09-16 04:21:25.153676+00:00  13.124896                 1   \n",
              "\n",
              "   included_in_block_num  \n",
              "0               15543784  \n",
              "1               15543784  "
            ],
            "text/html": [
              "\n",
              "  <div id=\"df-1058e939-9860-4dde-bc46-55d9589271c4\">\n",
              "    <div class=\"colab-df-container\">\n",
              "      <div>\n",
              "<style scoped>\n",
              "    .dataframe tbody tr th:only-of-type {\n",
              "        vertical-align: middle;\n",
              "    }\n",
              "\n",
              "    .dataframe tbody tr th {\n",
              "        vertical-align: top;\n",
              "    }\n",
              "\n",
              "    .dataframe thead th {\n",
              "        text-align: right;\n",
              "    }\n",
              "</style>\n",
              "<table border=\"1\" class=\"dataframe\">\n",
              "  <thead>\n",
              "    <tr style=\"text-align: right;\">\n",
              "      <th></th>\n",
              "      <th>hash</th>\n",
              "      <th>first_observed_at</th>\n",
              "      <th>first_observed_by</th>\n",
              "      <th>included_in</th>\n",
              "      <th>included_at</th>\n",
              "      <th>delay</th>\n",
              "      <th>num_observations</th>\n",
              "      <th>included_in_block_num</th>\n",
              "    </tr>\n",
              "  </thead>\n",
              "  <tbody>\n",
              "    <tr>\n",
              "      <th>0</th>\n",
              "      <td>0x7614ba7ea2f28a54540b8a535b4d55ae70349bfeb21b...</td>\n",
              "      <td>2022-09-16 04:21:02.454719+00:00</td>\n",
              "      <td>VA</td>\n",
              "      <td>0x38e89e3bc65fc8662ac7dc4da0b5acf37a47ff1dbb75...</td>\n",
              "      <td>2022-09-16 04:21:25.153676+00:00</td>\n",
              "      <td>22.698957</td>\n",
              "      <td>3</td>\n",
              "      <td>15543784</td>\n",
              "    </tr>\n",
              "    <tr>\n",
              "      <th>1</th>\n",
              "      <td>0x778d22bafd3b7a4ab6015d103c6731578235388684de...</td>\n",
              "      <td>2022-09-16 04:21:12.028780+00:00</td>\n",
              "      <td>VA</td>\n",
              "      <td>0x38e89e3bc65fc8662ac7dc4da0b5acf37a47ff1dbb75...</td>\n",
              "      <td>2022-09-16 04:21:25.153676+00:00</td>\n",
              "      <td>13.124896</td>\n",
              "      <td>1</td>\n",
              "      <td>15543784</td>\n",
              "    </tr>\n",
              "  </tbody>\n",
              "</table>\n",
              "</div>\n",
              "      <button class=\"colab-df-convert\" onclick=\"convertToInteractive('df-1058e939-9860-4dde-bc46-55d9589271c4')\"\n",
              "              title=\"Convert this dataframe to an interactive table.\"\n",
              "              style=\"display:none;\">\n",
              "        \n",
              "  <svg xmlns=\"http://www.w3.org/2000/svg\" height=\"24px\"viewBox=\"0 0 24 24\"\n",
              "       width=\"24px\">\n",
              "    <path d=\"M0 0h24v24H0V0z\" fill=\"none\"/>\n",
              "    <path d=\"M18.56 5.44l.94 2.06.94-2.06 2.06-.94-2.06-.94-.94-2.06-.94 2.06-2.06.94zm-11 1L8.5 8.5l.94-2.06 2.06-.94-2.06-.94L8.5 2.5l-.94 2.06-2.06.94zm10 10l.94 2.06.94-2.06 2.06-.94-2.06-.94-.94-2.06-.94 2.06-2.06.94z\"/><path d=\"M17.41 7.96l-1.37-1.37c-.4-.4-.92-.59-1.43-.59-.52 0-1.04.2-1.43.59L10.3 9.45l-7.72 7.72c-.78.78-.78 2.05 0 2.83L4 21.41c.39.39.9.59 1.41.59.51 0 1.02-.2 1.41-.59l7.78-7.78 2.81-2.81c.8-.78.8-2.07 0-2.86zM5.41 20L4 18.59l7.72-7.72 1.47 1.35L5.41 20z\"/>\n",
              "  </svg>\n",
              "      </button>\n",
              "      \n",
              "  <style>\n",
              "    .colab-df-container {\n",
              "      display:flex;\n",
              "      flex-wrap:wrap;\n",
              "      gap: 12px;\n",
              "    }\n",
              "\n",
              "    .colab-df-convert {\n",
              "      background-color: #E8F0FE;\n",
              "      border: none;\n",
              "      border-radius: 50%;\n",
              "      cursor: pointer;\n",
              "      display: none;\n",
              "      fill: #1967D2;\n",
              "      height: 32px;\n",
              "      padding: 0 0 0 0;\n",
              "      width: 32px;\n",
              "    }\n",
              "\n",
              "    .colab-df-convert:hover {\n",
              "      background-color: #E2EBFA;\n",
              "      box-shadow: 0px 1px 2px rgba(60, 64, 67, 0.3), 0px 1px 3px 1px rgba(60, 64, 67, 0.15);\n",
              "      fill: #174EA6;\n",
              "    }\n",
              "\n",
              "    [theme=dark] .colab-df-convert {\n",
              "      background-color: #3B4455;\n",
              "      fill: #D2E3FC;\n",
              "    }\n",
              "\n",
              "    [theme=dark] .colab-df-convert:hover {\n",
              "      background-color: #434B5C;\n",
              "      box-shadow: 0px 1px 3px 1px rgba(0, 0, 0, 0.15);\n",
              "      filter: drop-shadow(0px 1px 2px rgba(0, 0, 0, 0.3));\n",
              "      fill: #FFFFFF;\n",
              "    }\n",
              "  </style>\n",
              "\n",
              "      <script>\n",
              "        const buttonEl =\n",
              "          document.querySelector('#df-1058e939-9860-4dde-bc46-55d9589271c4 button.colab-df-convert');\n",
              "        buttonEl.style.display =\n",
              "          google.colab.kernel.accessAllowed ? 'block' : 'none';\n",
              "\n",
              "        async function convertToInteractive(key) {\n",
              "          const element = document.querySelector('#df-1058e939-9860-4dde-bc46-55d9589271c4');\n",
              "          const dataTable =\n",
              "            await google.colab.kernel.invokeFunction('convertToInteractive',\n",
              "                                                     [key], {});\n",
              "          if (!dataTable) return;\n",
              "\n",
              "          const docLinkHtml = 'Like what you see? Visit the ' +\n",
              "            '<a target=\"_blank\" href=https://colab.research.google.com/notebooks/data_table.ipynb>data table notebook</a>'\n",
              "            + ' to learn more about interactive tables.';\n",
              "          element.innerHTML = '';\n",
              "          dataTable['output_type'] = 'display_data';\n",
              "          await google.colab.output.renderOutput(dataTable, element);\n",
              "          const docLink = document.createElement('div');\n",
              "          docLink.innerHTML = docLinkHtml;\n",
              "          element.appendChild(docLink);\n",
              "        }\n",
              "      </script>\n",
              "    </div>\n",
              "  </div>\n",
              "  "
            ]
          },
          "metadata": {},
          "execution_count": 96
        }
      ]
    },
    {
      "cell_type": "markdown",
      "source": [
        "### define the column and blocks to be queried"
      ],
      "metadata": {
        "id": "xQpWUU_9wknE"
      }
    },
    {
      "cell_type": "code",
      "source": [
        "selected_columns = ['delay', 'included_in_block_num']"
      ],
      "metadata": {
        "id": "YsZAb0INvcOI"
      },
      "execution_count": null,
      "outputs": []
    },
    {
      "cell_type": "code",
      "source": [
        "# Connect to an existing database\n",
        "with psycopg.connect(POSTGRES_DB_URL, autocommit=True) as conn:\n",
        "\n",
        "    # Open a cursor to perform database operations\n",
        "    with conn.cursor() as cur:\n",
        "\n",
        "        # Execute a command: this creates a new table\n",
        "        sql=cur.execute(\"select delay, included_in_block_num from processed_transactions WHERE included_in_block_num >= 15537293 and included_in_block_num <= 15537493 limit 2\").fetchmany(size=2)\n",
        "        dat =pd.DataFrame(sql, columns=selected_columns)"
      ],
      "metadata": {
        "id": "L06-xMr-vfBI"
      },
      "execution_count": null,
      "outputs": []
    },
    {
      "cell_type": "code",
      "source": [
        "dat"
      ],
      "metadata": {
        "colab": {
          "base_uri": "https://localhost:8080/",
          "height": 112
        },
        "id": "Fcns6M6Pvz1q",
        "outputId": "b9ab9e65-563f-4f96-b794-dc8e05cc1cb9"
      },
      "execution_count": null,
      "outputs": [
        {
          "output_type": "execute_result",
          "data": {
            "text/plain": [
              "       delay  included_in_block_num\n",
              "0  41.872186               15537305\n",
              "1   2.960342               15537305"
            ],
            "text/html": [
              "\n",
              "  <div id=\"df-974fdf76-9434-4a68-8ee7-5b818b971a31\">\n",
              "    <div class=\"colab-df-container\">\n",
              "      <div>\n",
              "<style scoped>\n",
              "    .dataframe tbody tr th:only-of-type {\n",
              "        vertical-align: middle;\n",
              "    }\n",
              "\n",
              "    .dataframe tbody tr th {\n",
              "        vertical-align: top;\n",
              "    }\n",
              "\n",
              "    .dataframe thead th {\n",
              "        text-align: right;\n",
              "    }\n",
              "</style>\n",
              "<table border=\"1\" class=\"dataframe\">\n",
              "  <thead>\n",
              "    <tr style=\"text-align: right;\">\n",
              "      <th></th>\n",
              "      <th>delay</th>\n",
              "      <th>included_in_block_num</th>\n",
              "    </tr>\n",
              "  </thead>\n",
              "  <tbody>\n",
              "    <tr>\n",
              "      <th>0</th>\n",
              "      <td>41.872186</td>\n",
              "      <td>15537305</td>\n",
              "    </tr>\n",
              "    <tr>\n",
              "      <th>1</th>\n",
              "      <td>2.960342</td>\n",
              "      <td>15537305</td>\n",
              "    </tr>\n",
              "  </tbody>\n",
              "</table>\n",
              "</div>\n",
              "      <button class=\"colab-df-convert\" onclick=\"convertToInteractive('df-974fdf76-9434-4a68-8ee7-5b818b971a31')\"\n",
              "              title=\"Convert this dataframe to an interactive table.\"\n",
              "              style=\"display:none;\">\n",
              "        \n",
              "  <svg xmlns=\"http://www.w3.org/2000/svg\" height=\"24px\"viewBox=\"0 0 24 24\"\n",
              "       width=\"24px\">\n",
              "    <path d=\"M0 0h24v24H0V0z\" fill=\"none\"/>\n",
              "    <path d=\"M18.56 5.44l.94 2.06.94-2.06 2.06-.94-2.06-.94-.94-2.06-.94 2.06-2.06.94zm-11 1L8.5 8.5l.94-2.06 2.06-.94-2.06-.94L8.5 2.5l-.94 2.06-2.06.94zm10 10l.94 2.06.94-2.06 2.06-.94-2.06-.94-.94-2.06-.94 2.06-2.06.94z\"/><path d=\"M17.41 7.96l-1.37-1.37c-.4-.4-.92-.59-1.43-.59-.52 0-1.04.2-1.43.59L10.3 9.45l-7.72 7.72c-.78.78-.78 2.05 0 2.83L4 21.41c.39.39.9.59 1.41.59.51 0 1.02-.2 1.41-.59l7.78-7.78 2.81-2.81c.8-.78.8-2.07 0-2.86zM5.41 20L4 18.59l7.72-7.72 1.47 1.35L5.41 20z\"/>\n",
              "  </svg>\n",
              "      </button>\n",
              "      \n",
              "  <style>\n",
              "    .colab-df-container {\n",
              "      display:flex;\n",
              "      flex-wrap:wrap;\n",
              "      gap: 12px;\n",
              "    }\n",
              "\n",
              "    .colab-df-convert {\n",
              "      background-color: #E8F0FE;\n",
              "      border: none;\n",
              "      border-radius: 50%;\n",
              "      cursor: pointer;\n",
              "      display: none;\n",
              "      fill: #1967D2;\n",
              "      height: 32px;\n",
              "      padding: 0 0 0 0;\n",
              "      width: 32px;\n",
              "    }\n",
              "\n",
              "    .colab-df-convert:hover {\n",
              "      background-color: #E2EBFA;\n",
              "      box-shadow: 0px 1px 2px rgba(60, 64, 67, 0.3), 0px 1px 3px 1px rgba(60, 64, 67, 0.15);\n",
              "      fill: #174EA6;\n",
              "    }\n",
              "\n",
              "    [theme=dark] .colab-df-convert {\n",
              "      background-color: #3B4455;\n",
              "      fill: #D2E3FC;\n",
              "    }\n",
              "\n",
              "    [theme=dark] .colab-df-convert:hover {\n",
              "      background-color: #434B5C;\n",
              "      box-shadow: 0px 1px 3px 1px rgba(0, 0, 0, 0.15);\n",
              "      filter: drop-shadow(0px 1px 2px rgba(0, 0, 0, 0.3));\n",
              "      fill: #FFFFFF;\n",
              "    }\n",
              "  </style>\n",
              "\n",
              "      <script>\n",
              "        const buttonEl =\n",
              "          document.querySelector('#df-974fdf76-9434-4a68-8ee7-5b818b971a31 button.colab-df-convert');\n",
              "        buttonEl.style.display =\n",
              "          google.colab.kernel.accessAllowed ? 'block' : 'none';\n",
              "\n",
              "        async function convertToInteractive(key) {\n",
              "          const element = document.querySelector('#df-974fdf76-9434-4a68-8ee7-5b818b971a31');\n",
              "          const dataTable =\n",
              "            await google.colab.kernel.invokeFunction('convertToInteractive',\n",
              "                                                     [key], {});\n",
              "          if (!dataTable) return;\n",
              "\n",
              "          const docLinkHtml = 'Like what you see? Visit the ' +\n",
              "            '<a target=\"_blank\" href=https://colab.research.google.com/notebooks/data_table.ipynb>data table notebook</a>'\n",
              "            + ' to learn more about interactive tables.';\n",
              "          element.innerHTML = '';\n",
              "          dataTable['output_type'] = 'display_data';\n",
              "          await google.colab.output.renderOutput(dataTable, element);\n",
              "          const docLink = document.createElement('div');\n",
              "          docLink.innerHTML = docLinkHtml;\n",
              "          element.appendChild(docLink);\n",
              "        }\n",
              "      </script>\n",
              "    </div>\n",
              "  </div>\n",
              "  "
            ]
          },
          "metadata": {},
          "execution_count": 102
        }
      ]
    },
    {
      "cell_type": "markdown",
      "source": [
        "## 3.2. Before and After the Merge"
      ],
      "metadata": {
        "id": "LNNhiUGEtwQ1"
      }
    },
    {
      "cell_type": "markdown",
      "source": [
        "Data Range: We are going to query waiting time (delay) data for those included in the ethereum blockchain before and after the merge (block number: 15537393 on September 15)\n",
        "\n",
        "Reference; https://www.investopedia.com/ethereum-completes-the-merge-6666337"
      ],
      "metadata": {
        "id": "4gwjik_1xIqG"
      }
    },
    {
      "cell_type": "code",
      "source": [
        "#@title the merge\n",
        "merge = 15537393 #@param {type:\"number\"}"
      ],
      "metadata": {
        "id": "nUSoO93OxAHh"
      },
      "execution_count": null,
      "outputs": []
    },
    {
      "cell_type": "code",
      "source": [
        "#@title data radius\n",
        "radius = 70000 #@param {type:\"number\"}"
      ],
      "metadata": {
        "id": "b9k-eonatn1P"
      },
      "execution_count": null,
      "outputs": []
    },
    {
      "cell_type": "code",
      "source": [
        "### find the start and the end\n",
        "start = merge-radius\n",
        "end = merge+radius\n",
        "print(start, end)"
      ],
      "metadata": {
        "colab": {
          "base_uri": "https://localhost:8080/"
        },
        "id": "jJqJUAOJxVNY",
        "outputId": "c2c6df3e-c462-4c87-f214-417f2caad33c"
      },
      "execution_count": null,
      "outputs": [
        {
          "output_type": "stream",
          "name": "stdout",
          "text": [
            "15467393 15607393\n"
          ]
        }
      ]
    },
    {
      "cell_type": "code",
      "source": [
        "# Connect to an existing database\n",
        "with psycopg.connect(POSTGRES_DB_URL, autocommit=True) as conn:\n",
        "\n",
        "    # Open a cursor to perform database operations\n",
        "    with conn.cursor() as cur:\n",
        "\n",
        "        # Execute a command: this creates a new table\n",
        "        sql=cur.execute(\"select delay, included_in_block_num from processed_transactions WHERE included_in_block_num >= 15467393 and included_in_block_num <= 15607393\").fetchall()\n",
        "        dat =pd.DataFrame(sql, columns=selected_columns)"
      ],
      "metadata": {
        "id": "hAyu1b26xZnD"
      },
      "execution_count": null,
      "outputs": []
    },
    {
      "cell_type": "code",
      "source": [
        "wt_merge=dat\n",
        "wt_merge"
      ],
      "metadata": {
        "colab": {
          "base_uri": "https://localhost:8080/",
          "height": 424
        },
        "id": "T2FZNvWvxnNn",
        "outputId": "e7121a21-b65e-43ce-82d1-fcab15471300"
      },
      "execution_count": null,
      "outputs": [
        {
          "output_type": "execute_result",
          "data": {
            "text/plain": [
              "              delay  included_in_block_num\n",
              "0          6.961628               15543911\n",
              "1          6.239315               15543911\n",
              "2         13.702400               15543911\n",
              "3         11.898386               15543911\n",
              "4         12.329767               15543911\n",
              "...             ...                    ...\n",
              "23006690   9.533371               15543911\n",
              "23006691   9.454926               15543911\n",
              "23006692   9.086987               15543911\n",
              "23006693   8.778224               15543911\n",
              "23006694   7.610391               15543911\n",
              "\n",
              "[23006695 rows x 2 columns]"
            ],
            "text/html": [
              "\n",
              "  <div id=\"df-07c14d60-fd62-48ca-a9d7-4cda8a62f4bf\">\n",
              "    <div class=\"colab-df-container\">\n",
              "      <div>\n",
              "<style scoped>\n",
              "    .dataframe tbody tr th:only-of-type {\n",
              "        vertical-align: middle;\n",
              "    }\n",
              "\n",
              "    .dataframe tbody tr th {\n",
              "        vertical-align: top;\n",
              "    }\n",
              "\n",
              "    .dataframe thead th {\n",
              "        text-align: right;\n",
              "    }\n",
              "</style>\n",
              "<table border=\"1\" class=\"dataframe\">\n",
              "  <thead>\n",
              "    <tr style=\"text-align: right;\">\n",
              "      <th></th>\n",
              "      <th>delay</th>\n",
              "      <th>included_in_block_num</th>\n",
              "    </tr>\n",
              "  </thead>\n",
              "  <tbody>\n",
              "    <tr>\n",
              "      <th>0</th>\n",
              "      <td>6.961628</td>\n",
              "      <td>15543911</td>\n",
              "    </tr>\n",
              "    <tr>\n",
              "      <th>1</th>\n",
              "      <td>6.239315</td>\n",
              "      <td>15543911</td>\n",
              "    </tr>\n",
              "    <tr>\n",
              "      <th>2</th>\n",
              "      <td>13.702400</td>\n",
              "      <td>15543911</td>\n",
              "    </tr>\n",
              "    <tr>\n",
              "      <th>3</th>\n",
              "      <td>11.898386</td>\n",
              "      <td>15543911</td>\n",
              "    </tr>\n",
              "    <tr>\n",
              "      <th>4</th>\n",
              "      <td>12.329767</td>\n",
              "      <td>15543911</td>\n",
              "    </tr>\n",
              "    <tr>\n",
              "      <th>...</th>\n",
              "      <td>...</td>\n",
              "      <td>...</td>\n",
              "    </tr>\n",
              "    <tr>\n",
              "      <th>23006690</th>\n",
              "      <td>9.533371</td>\n",
              "      <td>15543911</td>\n",
              "    </tr>\n",
              "    <tr>\n",
              "      <th>23006691</th>\n",
              "      <td>9.454926</td>\n",
              "      <td>15543911</td>\n",
              "    </tr>\n",
              "    <tr>\n",
              "      <th>23006692</th>\n",
              "      <td>9.086987</td>\n",
              "      <td>15543911</td>\n",
              "    </tr>\n",
              "    <tr>\n",
              "      <th>23006693</th>\n",
              "      <td>8.778224</td>\n",
              "      <td>15543911</td>\n",
              "    </tr>\n",
              "    <tr>\n",
              "      <th>23006694</th>\n",
              "      <td>7.610391</td>\n",
              "      <td>15543911</td>\n",
              "    </tr>\n",
              "  </tbody>\n",
              "</table>\n",
              "<p>23006695 rows × 2 columns</p>\n",
              "</div>\n",
              "      <button class=\"colab-df-convert\" onclick=\"convertToInteractive('df-07c14d60-fd62-48ca-a9d7-4cda8a62f4bf')\"\n",
              "              title=\"Convert this dataframe to an interactive table.\"\n",
              "              style=\"display:none;\">\n",
              "        \n",
              "  <svg xmlns=\"http://www.w3.org/2000/svg\" height=\"24px\"viewBox=\"0 0 24 24\"\n",
              "       width=\"24px\">\n",
              "    <path d=\"M0 0h24v24H0V0z\" fill=\"none\"/>\n",
              "    <path d=\"M18.56 5.44l.94 2.06.94-2.06 2.06-.94-2.06-.94-.94-2.06-.94 2.06-2.06.94zm-11 1L8.5 8.5l.94-2.06 2.06-.94-2.06-.94L8.5 2.5l-.94 2.06-2.06.94zm10 10l.94 2.06.94-2.06 2.06-.94-2.06-.94-.94-2.06-.94 2.06-2.06.94z\"/><path d=\"M17.41 7.96l-1.37-1.37c-.4-.4-.92-.59-1.43-.59-.52 0-1.04.2-1.43.59L10.3 9.45l-7.72 7.72c-.78.78-.78 2.05 0 2.83L4 21.41c.39.39.9.59 1.41.59.51 0 1.02-.2 1.41-.59l7.78-7.78 2.81-2.81c.8-.78.8-2.07 0-2.86zM5.41 20L4 18.59l7.72-7.72 1.47 1.35L5.41 20z\"/>\n",
              "  </svg>\n",
              "      </button>\n",
              "      \n",
              "  <style>\n",
              "    .colab-df-container {\n",
              "      display:flex;\n",
              "      flex-wrap:wrap;\n",
              "      gap: 12px;\n",
              "    }\n",
              "\n",
              "    .colab-df-convert {\n",
              "      background-color: #E8F0FE;\n",
              "      border: none;\n",
              "      border-radius: 50%;\n",
              "      cursor: pointer;\n",
              "      display: none;\n",
              "      fill: #1967D2;\n",
              "      height: 32px;\n",
              "      padding: 0 0 0 0;\n",
              "      width: 32px;\n",
              "    }\n",
              "\n",
              "    .colab-df-convert:hover {\n",
              "      background-color: #E2EBFA;\n",
              "      box-shadow: 0px 1px 2px rgba(60, 64, 67, 0.3), 0px 1px 3px 1px rgba(60, 64, 67, 0.15);\n",
              "      fill: #174EA6;\n",
              "    }\n",
              "\n",
              "    [theme=dark] .colab-df-convert {\n",
              "      background-color: #3B4455;\n",
              "      fill: #D2E3FC;\n",
              "    }\n",
              "\n",
              "    [theme=dark] .colab-df-convert:hover {\n",
              "      background-color: #434B5C;\n",
              "      box-shadow: 0px 1px 3px 1px rgba(0, 0, 0, 0.15);\n",
              "      filter: drop-shadow(0px 1px 2px rgba(0, 0, 0, 0.3));\n",
              "      fill: #FFFFFF;\n",
              "    }\n",
              "  </style>\n",
              "\n",
              "      <script>\n",
              "        const buttonEl =\n",
              "          document.querySelector('#df-07c14d60-fd62-48ca-a9d7-4cda8a62f4bf button.colab-df-convert');\n",
              "        buttonEl.style.display =\n",
              "          google.colab.kernel.accessAllowed ? 'block' : 'none';\n",
              "\n",
              "        async function convertToInteractive(key) {\n",
              "          const element = document.querySelector('#df-07c14d60-fd62-48ca-a9d7-4cda8a62f4bf');\n",
              "          const dataTable =\n",
              "            await google.colab.kernel.invokeFunction('convertToInteractive',\n",
              "                                                     [key], {});\n",
              "          if (!dataTable) return;\n",
              "\n",
              "          const docLinkHtml = 'Like what you see? Visit the ' +\n",
              "            '<a target=\"_blank\" href=https://colab.research.google.com/notebooks/data_table.ipynb>data table notebook</a>'\n",
              "            + ' to learn more about interactive tables.';\n",
              "          element.innerHTML = '';\n",
              "          dataTable['output_type'] = 'display_data';\n",
              "          await google.colab.output.renderOutput(dataTable, element);\n",
              "          const docLink = document.createElement('div');\n",
              "          docLink.innerHTML = docLinkHtml;\n",
              "          element.appendChild(docLink);\n",
              "        }\n",
              "      </script>\n",
              "    </div>\n",
              "  </div>\n",
              "  "
            ]
          },
          "metadata": {},
          "execution_count": 105
        }
      ]
    },
    {
      "cell_type": "code",
      "source": [
        "wt_merge.to_csv('wt_merge.csv')"
      ],
      "metadata": {
        "id": "VRT0lbhoxo3q"
      },
      "execution_count": null,
      "outputs": []
    },
    {
      "cell_type": "code",
      "source": [
        "# save the data file to pickle to reduce size\n",
        "wt_merge.to_pickle('wt_merge.pkl')"
      ],
      "metadata": {
        "id": "27HSr4icCHjE"
      },
      "execution_count": null,
      "outputs": []
    },
    {
      "cell_type": "code",
      "source": [
        "wt_merge =pd.read_pickle('wt_merge.pkl')\n",
        "wt_merge  "
      ],
      "metadata": {
        "colab": {
          "base_uri": "https://localhost:8080/",
          "height": 424
        },
        "id": "sB0yKhC4CQQY",
        "outputId": "ff45fe8b-8c43-45b7-85a2-a2e731558174"
      },
      "execution_count": null,
      "outputs": [
        {
          "output_type": "execute_result",
          "data": {
            "text/plain": [
              "              delay  included_in_block_num\n",
              "0          6.961628               15543911\n",
              "1          6.239315               15543911\n",
              "2         13.702400               15543911\n",
              "3         11.898386               15543911\n",
              "4         12.329767               15543911\n",
              "...             ...                    ...\n",
              "23006690   9.533371               15543911\n",
              "23006691   9.454926               15543911\n",
              "23006692   9.086987               15543911\n",
              "23006693   8.778224               15543911\n",
              "23006694   7.610391               15543911\n",
              "\n",
              "[23006695 rows x 2 columns]"
            ],
            "text/html": [
              "\n",
              "  <div id=\"df-8c35cd65-b533-417a-9a57-271937da4ef6\">\n",
              "    <div class=\"colab-df-container\">\n",
              "      <div>\n",
              "<style scoped>\n",
              "    .dataframe tbody tr th:only-of-type {\n",
              "        vertical-align: middle;\n",
              "    }\n",
              "\n",
              "    .dataframe tbody tr th {\n",
              "        vertical-align: top;\n",
              "    }\n",
              "\n",
              "    .dataframe thead th {\n",
              "        text-align: right;\n",
              "    }\n",
              "</style>\n",
              "<table border=\"1\" class=\"dataframe\">\n",
              "  <thead>\n",
              "    <tr style=\"text-align: right;\">\n",
              "      <th></th>\n",
              "      <th>delay</th>\n",
              "      <th>included_in_block_num</th>\n",
              "    </tr>\n",
              "  </thead>\n",
              "  <tbody>\n",
              "    <tr>\n",
              "      <th>0</th>\n",
              "      <td>6.961628</td>\n",
              "      <td>15543911</td>\n",
              "    </tr>\n",
              "    <tr>\n",
              "      <th>1</th>\n",
              "      <td>6.239315</td>\n",
              "      <td>15543911</td>\n",
              "    </tr>\n",
              "    <tr>\n",
              "      <th>2</th>\n",
              "      <td>13.702400</td>\n",
              "      <td>15543911</td>\n",
              "    </tr>\n",
              "    <tr>\n",
              "      <th>3</th>\n",
              "      <td>11.898386</td>\n",
              "      <td>15543911</td>\n",
              "    </tr>\n",
              "    <tr>\n",
              "      <th>4</th>\n",
              "      <td>12.329767</td>\n",
              "      <td>15543911</td>\n",
              "    </tr>\n",
              "    <tr>\n",
              "      <th>...</th>\n",
              "      <td>...</td>\n",
              "      <td>...</td>\n",
              "    </tr>\n",
              "    <tr>\n",
              "      <th>23006690</th>\n",
              "      <td>9.533371</td>\n",
              "      <td>15543911</td>\n",
              "    </tr>\n",
              "    <tr>\n",
              "      <th>23006691</th>\n",
              "      <td>9.454926</td>\n",
              "      <td>15543911</td>\n",
              "    </tr>\n",
              "    <tr>\n",
              "      <th>23006692</th>\n",
              "      <td>9.086987</td>\n",
              "      <td>15543911</td>\n",
              "    </tr>\n",
              "    <tr>\n",
              "      <th>23006693</th>\n",
              "      <td>8.778224</td>\n",
              "      <td>15543911</td>\n",
              "    </tr>\n",
              "    <tr>\n",
              "      <th>23006694</th>\n",
              "      <td>7.610391</td>\n",
              "      <td>15543911</td>\n",
              "    </tr>\n",
              "  </tbody>\n",
              "</table>\n",
              "<p>23006695 rows × 2 columns</p>\n",
              "</div>\n",
              "      <button class=\"colab-df-convert\" onclick=\"convertToInteractive('df-8c35cd65-b533-417a-9a57-271937da4ef6')\"\n",
              "              title=\"Convert this dataframe to an interactive table.\"\n",
              "              style=\"display:none;\">\n",
              "        \n",
              "  <svg xmlns=\"http://www.w3.org/2000/svg\" height=\"24px\"viewBox=\"0 0 24 24\"\n",
              "       width=\"24px\">\n",
              "    <path d=\"M0 0h24v24H0V0z\" fill=\"none\"/>\n",
              "    <path d=\"M18.56 5.44l.94 2.06.94-2.06 2.06-.94-2.06-.94-.94-2.06-.94 2.06-2.06.94zm-11 1L8.5 8.5l.94-2.06 2.06-.94-2.06-.94L8.5 2.5l-.94 2.06-2.06.94zm10 10l.94 2.06.94-2.06 2.06-.94-2.06-.94-.94-2.06-.94 2.06-2.06.94z\"/><path d=\"M17.41 7.96l-1.37-1.37c-.4-.4-.92-.59-1.43-.59-.52 0-1.04.2-1.43.59L10.3 9.45l-7.72 7.72c-.78.78-.78 2.05 0 2.83L4 21.41c.39.39.9.59 1.41.59.51 0 1.02-.2 1.41-.59l7.78-7.78 2.81-2.81c.8-.78.8-2.07 0-2.86zM5.41 20L4 18.59l7.72-7.72 1.47 1.35L5.41 20z\"/>\n",
              "  </svg>\n",
              "      </button>\n",
              "      \n",
              "  <style>\n",
              "    .colab-df-container {\n",
              "      display:flex;\n",
              "      flex-wrap:wrap;\n",
              "      gap: 12px;\n",
              "    }\n",
              "\n",
              "    .colab-df-convert {\n",
              "      background-color: #E8F0FE;\n",
              "      border: none;\n",
              "      border-radius: 50%;\n",
              "      cursor: pointer;\n",
              "      display: none;\n",
              "      fill: #1967D2;\n",
              "      height: 32px;\n",
              "      padding: 0 0 0 0;\n",
              "      width: 32px;\n",
              "    }\n",
              "\n",
              "    .colab-df-convert:hover {\n",
              "      background-color: #E2EBFA;\n",
              "      box-shadow: 0px 1px 2px rgba(60, 64, 67, 0.3), 0px 1px 3px 1px rgba(60, 64, 67, 0.15);\n",
              "      fill: #174EA6;\n",
              "    }\n",
              "\n",
              "    [theme=dark] .colab-df-convert {\n",
              "      background-color: #3B4455;\n",
              "      fill: #D2E3FC;\n",
              "    }\n",
              "\n",
              "    [theme=dark] .colab-df-convert:hover {\n",
              "      background-color: #434B5C;\n",
              "      box-shadow: 0px 1px 3px 1px rgba(0, 0, 0, 0.15);\n",
              "      filter: drop-shadow(0px 1px 2px rgba(0, 0, 0, 0.3));\n",
              "      fill: #FFFFFF;\n",
              "    }\n",
              "  </style>\n",
              "\n",
              "      <script>\n",
              "        const buttonEl =\n",
              "          document.querySelector('#df-8c35cd65-b533-417a-9a57-271937da4ef6 button.colab-df-convert');\n",
              "        buttonEl.style.display =\n",
              "          google.colab.kernel.accessAllowed ? 'block' : 'none';\n",
              "\n",
              "        async function convertToInteractive(key) {\n",
              "          const element = document.querySelector('#df-8c35cd65-b533-417a-9a57-271937da4ef6');\n",
              "          const dataTable =\n",
              "            await google.colab.kernel.invokeFunction('convertToInteractive',\n",
              "                                                     [key], {});\n",
              "          if (!dataTable) return;\n",
              "\n",
              "          const docLinkHtml = 'Like what you see? Visit the ' +\n",
              "            '<a target=\"_blank\" href=https://colab.research.google.com/notebooks/data_table.ipynb>data table notebook</a>'\n",
              "            + ' to learn more about interactive tables.';\n",
              "          element.innerHTML = '';\n",
              "          dataTable['output_type'] = 'display_data';\n",
              "          await google.colab.output.renderOutput(dataTable, element);\n",
              "          const docLink = document.createElement('div');\n",
              "          docLink.innerHTML = docLinkHtml;\n",
              "          element.appendChild(docLink);\n",
              "        }\n",
              "      </script>\n",
              "    </div>\n",
              "  </div>\n",
              "  "
            ]
          },
          "metadata": {},
          "execution_count": 121
        }
      ]
    },
    {
      "cell_type": "markdown",
      "source": [
        "instructions:\n",
        "\n",
        "https://www.analyticsvidhya.com/blog/2021/06/how-to-load-kaggle-datasets-directly-into-google-colab/"
      ],
      "metadata": {
        "id": "jrUD-WuwCuOX"
      }
    },
    {
      "cell_type": "markdown",
      "source": [
        "## 3.3. Three NFT drops during 2021-08-24 to 2021-09-21\n",
        "\n",
        "\n",
        "* 2.1. Fatales NFT Launches (2021-08-31)\n",
        "* 2.2. CryptoDads NFT Launches (2021-09-10)\n",
        "* 2.3. GalaxyEggs NFT Launches (2021-9-14)\n",
        "\n",
        "\n"
      ],
      "metadata": {
        "id": "BV862ho_zMdF"
      }
    },
    {
      "cell_type": "markdown",
      "source": [
        "### A. From datetime to unix timestamp:\n",
        "how-to-convert-datetime-to-unix-timestamp-in-python/\n"
      ],
      "metadata": {
        "id": "hLEdvNwb4E3N"
      }
    },
    {
      "cell_type": "code",
      "source": [
        "import datetime\n",
        "import time"
      ],
      "metadata": {
        "id": "BireZkqv3a9p"
      },
      "execution_count": null,
      "outputs": []
    },
    {
      "cell_type": "code",
      "source": [
        "current_timestamp = time.time()"
      ],
      "metadata": {
        "id": "MTh4eDnY3Y-U"
      },
      "execution_count": null,
      "outputs": []
    },
    {
      "cell_type": "code",
      "source": [
        "current_timestamp"
      ],
      "metadata": {
        "colab": {
          "base_uri": "https://localhost:8080/"
        },
        "id": "YRXp9le51Xg3",
        "outputId": "586f9729-078a-494c-b9b7-9c7850c39721"
      },
      "execution_count": null,
      "outputs": [
        {
          "output_type": "execute_result",
          "data": {
            "text/plain": [
              "1670857532.9559953"
            ]
          },
          "metadata": {},
          "execution_count": 64
        }
      ]
    },
    {
      "cell_type": "code",
      "source": [
        "# assigned regular string date\n",
        "date_time = datetime.datetime(2021, 8, 24, 00, 00)\n",
        " \n",
        "# print regular python date&time\n",
        "print(\"date_time =>\",date_time)\n",
        " \n",
        "# displaying unix timestamp after conversion\n",
        "print(\"unix_timestamp => \",\n",
        "      (time.mktime(date_time.timetuple())))"
      ],
      "metadata": {
        "colab": {
          "base_uri": "https://localhost:8080/"
        },
        "id": "ufgpvnOo3fNV",
        "outputId": "06dcdb49-e6a7-4117-ce49-378d8a81123b"
      },
      "execution_count": null,
      "outputs": [
        {
          "output_type": "stream",
          "name": "stdout",
          "text": [
            "date_time => 2021-08-24 00:00:00\n",
            "unix_timestamp =>  1629763200.0\n"
          ]
        }
      ]
    },
    {
      "cell_type": "code",
      "source": [
        "# assigned regular string date\n",
        "date_time = datetime.datetime(2021, 9, 14, 00, 00)\n",
        " \n",
        "# print regular python date&time\n",
        "print(\"date_time =>\",date_time)\n",
        " \n",
        "# displaying unix timestamp after conversion\n",
        "print(\"unix_timestamp => \",\n",
        "      (time.mktime(date_time.timetuple())))"
      ],
      "metadata": {
        "colab": {
          "base_uri": "https://localhost:8080/"
        },
        "id": "h_Eci6EJ3woa",
        "outputId": "a60e32a1-554e-41a1-f3e5-f52809319c5e"
      },
      "execution_count": null,
      "outputs": [
        {
          "output_type": "stream",
          "name": "stdout",
          "text": [
            "date_time => 2021-09-14 00:00:00\n",
            "unix_timestamp =>  1631577600.0\n"
          ]
        }
      ]
    },
    {
      "cell_type": "markdown",
      "source": [
        "### B. Get block number by Etherscan API\n",
        "\n",
        "https://docs.etherscan.io/api-endpoints/blocks#get-block-number-by-timestamp\n",
        "https://www.geeksforgeeks.org/\n",
        "\n",
        "Get your API Key at: https://etherscan.io/myapikey"
      ],
      "metadata": {
        "id": "IxAviI122HCm"
      }
    },
    {
      "cell_type": "code",
      "source": [
        "pip install etherscan-python"
      ],
      "metadata": {
        "colab": {
          "base_uri": "https://localhost:8080/"
        },
        "id": "UuB0NmtQ33lN",
        "outputId": "4f37fdc0-d9a1-4993-e44a-172373202b45"
      },
      "execution_count": null,
      "outputs": [
        {
          "output_type": "stream",
          "name": "stdout",
          "text": [
            "Looking in indexes: https://pypi.org/simple, https://us-python.pkg.dev/colab-wheels/public/simple/\n",
            "Collecting etherscan-python\n",
            "  Downloading etherscan_python-2.1.0-py3-none-any.whl (22 kB)\n",
            "Requirement already satisfied: requests in /usr/local/lib/python3.8/dist-packages (from etherscan-python) (2.23.0)\n",
            "Requirement already satisfied: idna<3,>=2.5 in /usr/local/lib/python3.8/dist-packages (from requests->etherscan-python) (2.10)\n",
            "Requirement already satisfied: certifi>=2017.4.17 in /usr/local/lib/python3.8/dist-packages (from requests->etherscan-python) (2022.9.24)\n",
            "Requirement already satisfied: urllib3!=1.25.0,!=1.25.1,<1.26,>=1.21.1 in /usr/local/lib/python3.8/dist-packages (from requests->etherscan-python) (1.24.3)\n",
            "Requirement already satisfied: chardet<4,>=3.0.2 in /usr/local/lib/python3.8/dist-packages (from requests->etherscan-python) (3.0.4)\n",
            "Installing collected packages: etherscan-python\n",
            "Successfully installed etherscan-python-2.1.0\n"
          ]
        }
      ]
    },
    {
      "cell_type": "code",
      "source": [
        "#@title Your API_Key\n",
        "API_Key = \"API_KEY\" #@param {type:\"string\"}\n",
        "\n"
      ],
      "metadata": {
        "id": "9xVaWeQADHII"
      },
      "execution_count": null,
      "outputs": []
    },
    {
      "cell_type": "code",
      "source": [
        "from etherscan import Etherscan\n",
        "eth = Etherscan('API_KEY')"
      ],
      "metadata": {
        "id": "uKbRFKAQ5W7-"
      },
      "execution_count": null,
      "outputs": []
    },
    {
      "cell_type": "code",
      "source": [
        "start = eth.get_block_number_by_timestamp(timestamp=\"1629763200\", closest=\"before\")\n",
        "start"
      ],
      "metadata": {
        "colab": {
          "base_uri": "https://localhost:8080/",
          "height": 35
        },
        "id": "J1YtNrB65fD3",
        "outputId": "6c941b01-f002-47ce-ec8f-d88ad6a76461"
      },
      "execution_count": null,
      "outputs": [
        {
          "output_type": "execute_result",
          "data": {
            "text/plain": [
              "'13084679'"
            ],
            "application/vnd.google.colaboratory.intrinsic+json": {
              "type": "string"
            }
          },
          "metadata": {},
          "execution_count": 75
        }
      ]
    },
    {
      "cell_type": "code",
      "source": [
        "end = eth.get_block_number_by_timestamp(timestamp=\"1631577600\", closest=\"after\")\n",
        "end"
      ],
      "metadata": {
        "colab": {
          "base_uri": "https://localhost:8080/",
          "height": 35
        },
        "id": "YmbVY2Ip5pd4",
        "outputId": "82860534-7597-488f-9dc9-d6a9051e0c63"
      },
      "execution_count": null,
      "outputs": [
        {
          "output_type": "execute_result",
          "data": {
            "text/plain": [
              "'13220489'"
            ],
            "application/vnd.google.colaboratory.intrinsic+json": {
              "type": "string"
            }
          },
          "metadata": {},
          "execution_count": 76
        }
      ]
    },
    {
      "cell_type": "code",
      "source": [
        "import numpy as np\n",
        "duration = int(end)-int(start)\n",
        "duration"
      ],
      "metadata": {
        "colab": {
          "base_uri": "https://localhost:8080/"
        },
        "id": "uiVn8r-F5v3B",
        "outputId": "12c10d3c-a312-4e3b-af64-a25b003cd67f"
      },
      "execution_count": null,
      "outputs": [
        {
          "output_type": "execute_result",
          "data": {
            "text/plain": [
              "135810"
            ]
          },
          "metadata": {},
          "execution_count": 82
        }
      ]
    },
    {
      "cell_type": "markdown",
      "source": [
        "C. Query the waiting time (delay) data during the NFT drops period"
      ],
      "metadata": {
        "id": "g6i6cnaM6S60"
      }
    },
    {
      "cell_type": "code",
      "source": [
        "# Connect to an existing database\n",
        "with psycopg.connect(POSTGRES_DB_URL, autocommit=True) as conn:\n",
        "\n",
        "    # Open a cursor to perform database operations\n",
        "    with conn.cursor() as cur:\n",
        "\n",
        "        # Execute a command: this creates a new table\n",
        "        sql=cur.execute(\"select delay, included_in_block_num from processed_transactions WHERE included_in_block_num >= 13084679 and included_in_block_num <= 13220489\").fetchall()\n",
        "        dat2 =pd.DataFrame(sql, columns=selected_columns)"
      ],
      "metadata": {
        "id": "4x7KGBfJ6X_y"
      },
      "execution_count": null,
      "outputs": []
    },
    {
      "cell_type": "code",
      "source": [
        "wt_NFT = dat2\n",
        "wt_NFT"
      ],
      "metadata": {
        "colab": {
          "base_uri": "https://localhost:8080/",
          "height": 49
        },
        "id": "RQm6hjQY79P6",
        "outputId": "ad516594-3330-4577-87ba-578fbc96dfb7"
      },
      "execution_count": null,
      "outputs": [
        {
          "output_type": "execute_result",
          "data": {
            "text/plain": [
              "Empty DataFrame\n",
              "Columns: [delay, included_in_block_num]\n",
              "Index: []"
            ],
            "text/html": [
              "\n",
              "  <div id=\"df-872e2dcb-ffe0-4bd6-99ae-3f02ab284fc9\">\n",
              "    <div class=\"colab-df-container\">\n",
              "      <div>\n",
              "<style scoped>\n",
              "    .dataframe tbody tr th:only-of-type {\n",
              "        vertical-align: middle;\n",
              "    }\n",
              "\n",
              "    .dataframe tbody tr th {\n",
              "        vertical-align: top;\n",
              "    }\n",
              "\n",
              "    .dataframe thead th {\n",
              "        text-align: right;\n",
              "    }\n",
              "</style>\n",
              "<table border=\"1\" class=\"dataframe\">\n",
              "  <thead>\n",
              "    <tr style=\"text-align: right;\">\n",
              "      <th></th>\n",
              "      <th>delay</th>\n",
              "      <th>included_in_block_num</th>\n",
              "    </tr>\n",
              "  </thead>\n",
              "  <tbody>\n",
              "  </tbody>\n",
              "</table>\n",
              "</div>\n",
              "      <button class=\"colab-df-convert\" onclick=\"convertToInteractive('df-872e2dcb-ffe0-4bd6-99ae-3f02ab284fc9')\"\n",
              "              title=\"Convert this dataframe to an interactive table.\"\n",
              "              style=\"display:none;\">\n",
              "        \n",
              "  <svg xmlns=\"http://www.w3.org/2000/svg\" height=\"24px\"viewBox=\"0 0 24 24\"\n",
              "       width=\"24px\">\n",
              "    <path d=\"M0 0h24v24H0V0z\" fill=\"none\"/>\n",
              "    <path d=\"M18.56 5.44l.94 2.06.94-2.06 2.06-.94-2.06-.94-.94-2.06-.94 2.06-2.06.94zm-11 1L8.5 8.5l.94-2.06 2.06-.94-2.06-.94L8.5 2.5l-.94 2.06-2.06.94zm10 10l.94 2.06.94-2.06 2.06-.94-2.06-.94-.94-2.06-.94 2.06-2.06.94z\"/><path d=\"M17.41 7.96l-1.37-1.37c-.4-.4-.92-.59-1.43-.59-.52 0-1.04.2-1.43.59L10.3 9.45l-7.72 7.72c-.78.78-.78 2.05 0 2.83L4 21.41c.39.39.9.59 1.41.59.51 0 1.02-.2 1.41-.59l7.78-7.78 2.81-2.81c.8-.78.8-2.07 0-2.86zM5.41 20L4 18.59l7.72-7.72 1.47 1.35L5.41 20z\"/>\n",
              "  </svg>\n",
              "      </button>\n",
              "      \n",
              "  <style>\n",
              "    .colab-df-container {\n",
              "      display:flex;\n",
              "      flex-wrap:wrap;\n",
              "      gap: 12px;\n",
              "    }\n",
              "\n",
              "    .colab-df-convert {\n",
              "      background-color: #E8F0FE;\n",
              "      border: none;\n",
              "      border-radius: 50%;\n",
              "      cursor: pointer;\n",
              "      display: none;\n",
              "      fill: #1967D2;\n",
              "      height: 32px;\n",
              "      padding: 0 0 0 0;\n",
              "      width: 32px;\n",
              "    }\n",
              "\n",
              "    .colab-df-convert:hover {\n",
              "      background-color: #E2EBFA;\n",
              "      box-shadow: 0px 1px 2px rgba(60, 64, 67, 0.3), 0px 1px 3px 1px rgba(60, 64, 67, 0.15);\n",
              "      fill: #174EA6;\n",
              "    }\n",
              "\n",
              "    [theme=dark] .colab-df-convert {\n",
              "      background-color: #3B4455;\n",
              "      fill: #D2E3FC;\n",
              "    }\n",
              "\n",
              "    [theme=dark] .colab-df-convert:hover {\n",
              "      background-color: #434B5C;\n",
              "      box-shadow: 0px 1px 3px 1px rgba(0, 0, 0, 0.15);\n",
              "      filter: drop-shadow(0px 1px 2px rgba(0, 0, 0, 0.3));\n",
              "      fill: #FFFFFF;\n",
              "    }\n",
              "  </style>\n",
              "\n",
              "      <script>\n",
              "        const buttonEl =\n",
              "          document.querySelector('#df-872e2dcb-ffe0-4bd6-99ae-3f02ab284fc9 button.colab-df-convert');\n",
              "        buttonEl.style.display =\n",
              "          google.colab.kernel.accessAllowed ? 'block' : 'none';\n",
              "\n",
              "        async function convertToInteractive(key) {\n",
              "          const element = document.querySelector('#df-872e2dcb-ffe0-4bd6-99ae-3f02ab284fc9');\n",
              "          const dataTable =\n",
              "            await google.colab.kernel.invokeFunction('convertToInteractive',\n",
              "                                                     [key], {});\n",
              "          if (!dataTable) return;\n",
              "\n",
              "          const docLinkHtml = 'Like what you see? Visit the ' +\n",
              "            '<a target=\"_blank\" href=https://colab.research.google.com/notebooks/data_table.ipynb>data table notebook</a>'\n",
              "            + ' to learn more about interactive tables.';\n",
              "          element.innerHTML = '';\n",
              "          dataTable['output_type'] = 'display_data';\n",
              "          await google.colab.output.renderOutput(dataTable, element);\n",
              "          const docLink = document.createElement('div');\n",
              "          docLink.innerHTML = docLinkHtml;\n",
              "          element.appendChild(docLink);\n",
              "        }\n",
              "      </script>\n",
              "    </div>\n",
              "  </div>\n",
              "  "
            ]
          },
          "metadata": {},
          "execution_count": 112
        }
      ]
    },
    {
      "cell_type": "code",
      "source": [],
      "metadata": {
        "id": "gtJqkRMM-uAH"
      },
      "execution_count": null,
      "outputs": []
    }
  ]
}